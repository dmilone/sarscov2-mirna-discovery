{
  "nbformat": 4,
  "nbformat_minor": 0,
  "metadata": {
    "colab": {
      "name": "train_pre-miRNA_models.ipynb",
      "provenance": [],
      "collapsed_sections": [
        "NnmT8wQkKBMn",
        "rMx8lkloa9e9"
      ]
    },
    "kernelspec": {
      "name": "python3",
      "display_name": "Python 3"
    },
    "accelerator": "GPU"
  },
  "cells": [
    {
      "cell_type": "markdown",
      "metadata": {
        "id": "Yn0GdEE1JpnN"
      },
      "source": [
        "# Training pre-miRNAs classifiers for SARS-CoV-2 genome\n",
        "This notebook have the basic code to train three different machine learning models to find new sarscov2 pre-miRNAs. It can easily run in a stand alone way with [Google Colaboratory](colab.research.google.com), otherwise a python instalation and a GPU are required.\n",
        "\n",
        "More details of these models can be found in:\n",
        "\n",
        "- L. A. Bugnon, C. Yones, D. H. Milone, G. Stegmayer, Deep neural architectures for highly imbalanced data in bioinformatics, IEEE Transactions on Neural Networks and Learning Systems, 2019, https://doi.org/10.1109/TNNLS.2019.2914471\n",
        "- C. Yones, J. Raad, L.A. Bugnon, D.H. Milone, G. Stegmayer, High precision in microRNA prediction: a novel genome-wide approach based on convolutional deep residual networks, bioRxiv 2020.10.23.352179, 2020, https://doi.org/10.1101/2020.10.23.352179\n"
      ]
    },
    {
      "cell_type": "code",
      "metadata": {
        "id": "ow8u21Z0s-4y"
      },
      "source": [
        "# Run this cell only if you are working from a google colab. This will download \n",
        "# the dataset and set the working directory.\n",
        "! sudo apt-get install git-lfs\n",
        "import os \n",
        "! git clone https://github.com/sinc-lab/sarscov2-mirna-discovery.git\n",
        "os.chdir(\"sarscov2-mirna-discovery/\")\n",
        "! git lfs pull # This download the large files (for example, the features)"
      ],
      "execution_count": null,
      "outputs": []
    },
    {
      "cell_type": "markdown",
      "metadata": {
        "id": "aTHxcZKRWFh9"
      },
      "source": [
        "# Dataset preparation\n",
        "mirBase virus miRNAs are used as positive class, along with non-mirna hairpin-like sequences from the human genome. "
      ]
    },
    {
      "cell_type": "code",
      "metadata": {
        "id": "8NoYZE_Awnds"
      },
      "source": [
        "import numpy as np\n",
        "import pandas as pd\n",
        "from scipy.stats import zscore  \n",
        "\n",
        "# all the known virus miRNAs are used as positive examples\n",
        "features_virus_mirnas = pd.read_csv('features/pre-miRNAs_virus.csv')\n",
        "\n",
        "# SARS-CoV2 sequences are used to train the deeSOM transductivelly \n",
        "features_unlabeled_hairpins = pd.read_csv('features/sars-cov2_hairpins.csv') # Hairpins from hsa genome\n",
        "\n",
        "labels = np.concatenate((np.ones(len(features_virus_mirnas)), np.zeros(len(features_unlabeled_hairpins))))\n",
        "features = np.concatenate((features_virus_mirnas.drop(columns=[\"sequence_names\"]), \n",
        "                       features_unlabeled_hairpins.drop(columns=[\"sequence_names\"]))).astype(np.float)\n",
        "sequence_names = np.concatenate((features_virus_mirnas.sequence_names, features_unlabeled_hairpins.sequence_names))\n",
        "\n",
        "# Feature normalization\n",
        "features[np.where(np.isnan(features))] = 0\n",
        "features = zscore(features, axis=0)\n",
        "features[np.where(np.isnan(features))] = 0"
      ],
      "execution_count": 4,
      "outputs": []
    },
    {
      "cell_type": "markdown",
      "metadata": {
        "id": "NnmT8wQkKBMn"
      },
      "source": [
        "## One-Class SVM (OC-SVM)\n"
      ]
    },
    {
      "cell_type": "code",
      "metadata": {
        "id": "fC_Hmn5NVL5p",
        "colab": {
          "base_uri": "https://localhost:8080/"
        },
        "outputId": "40094c9b-6086-4024-fb2b-278abb7e1523"
      },
      "source": [
        "from sklearn.svm import OneClassSVM\n",
        "import pickle\n",
        "\n",
        "ocsvm = OneClassSVM(kernel=\"linear\")\n",
        "# Use only the positive class to define the decision frontier\n",
        "ocsvm.fit(features[labels == 1, :]) \n",
        "print(\"Fitting OC-SVM done\")\n",
        "if not os.path.isdir(\"models\"):\n",
        "    os.mkdir(\"models\")\n",
        "pickle.dump(ocsvm, open(\"models/ocsvm.pk\", \"wb\"))"
      ],
      "execution_count": 12,
      "outputs": [
        {
          "output_type": "stream",
          "text": [
            "Fitting OC-SVM done\n"
          ],
          "name": "stdout"
        }
      ]
    },
    {
      "cell_type": "markdown",
      "metadata": {
        "id": "rMx8lkloa9e9"
      },
      "source": [
        "# Deep Ensemble-Elastic Self-organized maps (deeSOM)\n",
        "You can find more details of the model implementation in the [deeSOM repository](https://github.com/lbugnon/deeSOM)."
      ]
    },
    {
      "cell_type": "code",
      "metadata": {
        "id": "sKLGbM1_NoYd"
      },
      "source": [
        "!pip install deesom \n",
        "from deesom import DeeSOM\n",
        "deesom = DeeSOM(verbosity=True)\n",
        "# Train deepSOM\n",
        "deesom.fit(features, labels)\n",
        "print(\"Fitting deeSOM done\")\n",
        "if not os.path.isdir(\"models\"):\n",
        "    os.mkdir(\"models\")\n",
        "deesom.save_model(\"models/deesom.pk\")"
      ],
      "execution_count": null,
      "outputs": []
    },
    {
      "cell_type": "markdown",
      "metadata": {
        "id": "gGMN4F-OKkK2"
      },
      "source": [
        "# miRNA Deep Neural Network (mirDNN)\n",
        "You can find more details of the model implementation in the [mirDNN repository](https://github.com/cyones/mirDNN)."
      ]
    },
    {
      "cell_type": "code",
      "metadata": {
        "id": "3cNEFGDvKjjb",
        "colab": {
          "base_uri": "https://localhost:8080/"
        },
        "outputId": "6e1502cd-7973-407e-ddcb-d7e6dd914c5b"
      },
      "source": [
        "# Install mirDNN\n",
        "! git clone --recurse-submodules https://github.com/cyones/mirDNN.git\n",
        "! pip install -r mirDNN/requirements.txt\n",
        "\n",
        "import numpy as np\n",
        "import shutil\n",
        "npos = int(np.sum(labels))\n",
        "shutil.rmtree(\"tmp/\", ignore_errors=True)\n",
        "os.mkdir(\"tmp/\")\n",
        "if not os.path.isdir(\"models\"):\n",
        "    os.mkdir(\"models\")\n",
        "\n",
        "# Run train script (-i indicates first unlabeled sequences, \n",
        "# then positive sequences)\n",
        "! python3 mirDNN/mirdnn_fit.py -i sequences/sequences_unlabeled_hairpins.fold -i sequences/miRNAs_virus.fold -m models/mirdnn.pmt -l tmp/train.log -d \"cuda\" -s 160\n",
        "\n",
        "print(\"Fitting mirDNN done\")"
      ],
      "execution_count": null,
      "outputs": [
        {
          "output_type": "stream",
          "text": [
            "fatal: destination path 'mirDNN' already exists and is not an empty directory.\n",
            "Requirement already satisfied: biopython==1.72 in /usr/local/lib/python3.6/dist-packages (from -r mirDNN/requirements.txt (line 1)) (1.72)\n",
            "Requirement already satisfied: numpy==1.16.4 in /usr/local/lib/python3.6/dist-packages (from -r mirDNN/requirements.txt (line 2)) (1.16.4)\n",
            "Requirement already satisfied: pandas==0.25.1 in /usr/local/lib/python3.6/dist-packages (from -r mirDNN/requirements.txt (line 3)) (0.25.1)\n",
            "Requirement already satisfied: scikit-learn in /usr/local/lib/python3.6/dist-packages (from -r mirDNN/requirements.txt (line 4)) (0.22.2.post1)\n",
            "Requirement already satisfied: scipy==1.3.0 in /usr/local/lib/python3.6/dist-packages (from -r mirDNN/requirements.txt (line 5)) (1.3.0)\n",
            "Requirement already satisfied: torch==1.4.0 in /usr/local/lib/python3.6/dist-packages (from -r mirDNN/requirements.txt (line 6)) (1.4.0)\n",
            "Requirement already satisfied: tqdm==4.31.1 in /usr/local/lib/python3.6/dist-packages (from -r mirDNN/requirements.txt (line 7)) (4.31.1)\n",
            "Requirement already satisfied: python-dateutil>=2.6.1 in /usr/local/lib/python3.6/dist-packages (from pandas==0.25.1->-r mirDNN/requirements.txt (line 3)) (2.8.1)\n",
            "Requirement already satisfied: pytz>=2017.2 in /usr/local/lib/python3.6/dist-packages (from pandas==0.25.1->-r mirDNN/requirements.txt (line 3)) (2018.9)\n",
            "Requirement already satisfied: joblib>=0.11 in /usr/local/lib/python3.6/dist-packages (from scikit-learn->-r mirDNN/requirements.txt (line 4)) (0.17.0)\n",
            "Requirement already satisfied: six>=1.5 in /usr/local/lib/python3.6/dist-packages (from python-dateutil>=2.6.1->pandas==0.25.1->-r mirDNN/requirements.txt (line 3)) (1.15.0)\n",
            "epoch\ttrainLoss\tvalidAUC\tlast_imp\n",
            "0\t0.1723\t1.4473\t0\n",
            "1\t0.1132\t3.3740\t0\n",
            "2\t0.0932\t7.2525\t0\n",
            "3\t0.0849\t10.9427\t0\n",
            "4\t0.0883\t14.1527\t0\n",
            "5\t0.0968\t17.1326\t0\n",
            "6\t0.0677\t20.1408\t0\n",
            "7\t0.0547\t21.3322\t0\n",
            "8\t0.0568\t24.2975\t0\n",
            "9\t0.0422\t27.7852\t0\n",
            "10\t0.0461\t30.3895\t0\n",
            "11\t0.0411\t32.3713\t0\n",
            "12\t0.0308\t34.9651\t0\n",
            "13\t0.0438\t36.4939\t0\n",
            "14\t0.0268\t38.1245\t0\n",
            "15\t0.0293\t39.9394\t0\n",
            "16\t0.0140\t41.9659\t0\n",
            "17\t0.0229\t43.3353\t0\n",
            "18\t0.0129\t45.4677\t0\n",
            "19\t0.0100\t46.4719\t0\n",
            "20\t0.0107\t47.7017\t0\n",
            "21\t0.0122\t48.7321\t0\n",
            "22\t0.0112\t49.9123\t0\n",
            "23\t0.0075\t50.6747\t0\n",
            "24\t0.0043\t51.6943\t0\n",
            "25\t0.0132\t52.2116\t0\n",
            "26\t0.0024\t53.1494\t0\n",
            "27\t0.0034\t53.1179\t1\n",
            "28\t0.0042\t54.0723\t0\n",
            "29\t0.0025\t54.3234\t0\n",
            "30\t0.0068\t54.9606\t0\n",
            "31\t0.0016\t55.8373\t0\n",
            "32\t0.0083\t55.6682\t1\n",
            "33\t0.0058\t56.4341\t0\n",
            "34\t0.0008\t57.2770\t0\n",
            "35\t0.0045\t56.5584\t1\n",
            "36\t0.0122\t56.4647\t2\n",
            "37\t0.0024\t57.7551\t0\n",
            "38\t0.0004\t58.6834\t0\n",
            "39\t0.0000\t59.6118\t0\n",
            "40\t0.0000\t60.4528\t0\n",
            "41\t0.0000\t61.1761\t0\n",
            "42\t0.0000\t61.8625\t0\n",
            "43\t0.0000\t62.4894\t0\n",
            "44\t0.0000\t63.0411\t0\n",
            "45\t0.0000\t63.5444\t0\n",
            "46\t0.0000\t64.0013\t0\n",
            "47\t0.0000\t64.4019\t0\n",
            "48\t0.0000\t64.7538\t0\n"
          ],
          "name": "stdout"
        }
      ]
    }
  ]
}