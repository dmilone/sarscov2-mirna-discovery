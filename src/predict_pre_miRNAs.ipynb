{
 "cells": [
  {
   "cell_type": "markdown",
   "metadata": {
    "id": "Yn0GdEE1JpnN"
   },
   "source": [
    "# Using pre-miRNAs classifiers on SARS-CoV-2 genome\n",
    "This notebook have uses the train machine learning models to find new sarscov2 pre-miRNAs. It can easily run in a stand alone way with [Google Colaboratory](colab.research.google.com), otherwise a python instalation and a GPU are required.\n",
    "\n",
    "More details of the used models can be found in:\n",
    "\n",
    "- L. A. Bugnon, C. Yones, D. H. Milone, G. Stegmayer, Deep neural architectures for highly imbalanced data in bioinformatics, IEEE Transactions on Neural Networks and Learning Systems, 2019, https://doi.org/10.1109/TNNLS.2019.2914471\n",
    "- C. Yones, J. Raad, L.A. Bugnon, D.H. Milone, G. Stegmayer, High precision in microRNA prediction: a novel genome-wide approach based on convolutional deep residual networks, bioRxiv 2020.10.23.352179, 2020, https://doi.org/10.1101/2020.10.23.352179\n"
   ]
  },
  {
   "cell_type": "code",
   "execution_count": 1,
   "metadata": {
    "colab": {
     "base_uri": "https://localhost:8080/"
    },
    "id": "CKJu7W6oLf7K",
    "outputId": "211f048a-57f5-4f86-fb95-37b8056da75d",
    "scrolled": true
   },
   "outputs": [
    {
     "name": "stdout",
     "output_type": "stream",
     "text": [
      "Clonando en 'sarscov2-mirna-discovery'...\n",
      "remote: Enumerating objects: 71, done.\u001b[K\n",
      "remote: Counting objects: 100% (71/71), done.\u001b[K\n",
      "remote: Compressing objects: 100% (53/53), done.\u001b[K\n",
      "remote: Total 71 (delta 24), reused 56 (delta 13), pack-reused 0\u001b[K\n",
      "Desempaquetando objetos: 100% (71/71), listo.\n"
     ]
    }
   ],
   "source": [
    "# Run this cell ONLY if you are working from a google colab. This will download \n",
    "# the dataset and set the working directory.\n",
    "import os \n",
    "! git clone https://github.com/sinc-lab/sarscov2-mirna-discovery.git\n",
    "os.chdir(\"sarscov2-mirna-discovery/\")"
   ]
  },
  {
   "cell_type": "code",
   "execution_count": 1,
   "metadata": {},
   "outputs": [
    {
     "name": "stdout",
     "output_type": "stream",
     "text": [
      "/home/leandro/sarscov2-mirna-discovery\n",
      "Requirement already satisfied: pandas in /home/leandro/.local/lib/python3.7/site-packages (from -r src/requirements_pre-miRNA_prediction.txt (line 1)) (1.1.5)\n",
      "Requirement already satisfied: scikit-learn in /home/leandro/.local/lib/python3.7/site-packages (from -r src/requirements_pre-miRNA_prediction.txt (line 2)) (0.23.2)\n",
      "Requirement already satisfied: scipy in /home/leandro/.local/lib/python3.7/site-packages (from -r src/requirements_pre-miRNA_prediction.txt (line 3)) (1.5.3)\n",
      "Requirement already satisfied: numpy>=1.15.4 in /home/leandro/.local/lib/python3.7/site-packages (from pandas->-r src/requirements_pre-miRNA_prediction.txt (line 1)) (1.19.2)\n",
      "Requirement already satisfied: python-dateutil>=2.7.3 in /home/leandro/.local/lib/python3.7/site-packages (from pandas->-r src/requirements_pre-miRNA_prediction.txt (line 1)) (2.8.1)\n",
      "Requirement already satisfied: pytz>=2017.2 in /home/leandro/.local/lib/python3.7/site-packages (from pandas->-r src/requirements_pre-miRNA_prediction.txt (line 1)) (2020.4)\n",
      "Requirement already satisfied: joblib>=0.11 in /home/leandro/.local/lib/python3.7/site-packages (from scikit-learn->-r src/requirements_pre-miRNA_prediction.txt (line 2)) (0.17.0)\n",
      "Requirement already satisfied: threadpoolctl>=2.0.0 in /home/leandro/.local/lib/python3.7/site-packages (from scikit-learn->-r src/requirements_pre-miRNA_prediction.txt (line 2)) (2.1.0)\n",
      "Requirement already satisfied: six>=1.5 in /usr/lib/python3/dist-packages (from python-dateutil>=2.7.3->pandas->-r src/requirements_pre-miRNA_prediction.txt (line 1)) (1.12.0)\n"
     ]
    }
   ],
   "source": [
    "# If you are running this from your PC, check that the working directory is \n",
    "# the root of the repository\n",
    "import os \n",
    "os.chdir(\"../\")\n",
    "print(os.getcwd())  # should end with \"sarscov2-mirna-discovery/\"\n",
    "!pip3 install --user -r src/requirements_pre-miRNA_prediction.txt"
   ]
  },
  {
   "cell_type": "markdown",
   "metadata": {
    "id": "aTHxcZKRWFh9"
   },
   "source": [
    "# Dataset preparation\n",
    "Here we load all the hairpin-like sequences found in the SARS-CoV2 genome and its features."
   ]
  },
  {
   "cell_type": "code",
   "execution_count": 2,
   "metadata": {
    "id": "8NoYZE_Awnds"
   },
   "outputs": [],
   "source": [
    "import numpy as np\n",
    "import pandas as pd\n",
    "from scipy.stats import zscore  \n",
    "\n",
    "features_sarscov2 = pd.read_csv('features/sars-cov2_hairpins.csv')\n",
    "sequence_names = features_sarscov2.sequence_names.values\n",
    "features_sarscov2 = features_sarscov2.drop(columns=[\"sequence_names\"]).values.astype(float)\n",
    "\n",
    "# Feature normalization\n",
    "features_sarscov2[np.where(np.isnan(features_sarscov2))] = 0\n",
    "features_sarscov2 = zscore(features_sarscov2, axis=0)\n",
    "features_sarscov2[np.where(np.isnan(features_sarscov2))] = 0"
   ]
  },
  {
   "cell_type": "markdown",
   "metadata": {
    "id": "NnmT8wQkKBMn"
   },
   "source": [
    "## One-Class SVM (OC-SVM)\n"
   ]
  },
  {
   "cell_type": "code",
   "execution_count": 3,
   "metadata": {
    "id": "fC_Hmn5NVL5p"
   },
   "outputs": [],
   "source": [
    "from sklearn.svm import OneClassSVM\n",
    "import pickle\n",
    "model_file = \"models/ocsvm.pk\"\n",
    "try:\n",
    "    ocsvm = pickle.load(open(model_file, \"rb\"))\n",
    "except FileNotFoundError:\n",
    "    raise f\"Model file {model_file} not found. You probably need to train the model first\"  \n",
    "\n",
    "if not os.path.isdir(\"predictions\"):\n",
    "    os.mkdir(\"predictions\")\n",
    "\n",
    "scores = ocsvm.decision_function(features_sarscov2) # better candidates at first\n",
    "ind = np.argsort(scores)[::-1]\n",
    "pd.DataFrame(np.array([sequence_names[ind], scores[ind]]).T, \n",
    "             columns=[\"sequence_names\", \"OC-SVM_scores\"]).to_csv(\"predictions/OC-SVM.csv\",\n",
    "                                                                 index=False)\n",
    "# If you are working in a google colab, you should see the output \"predictions\" \n",
    "# under the folder icon on the left panel"
   ]
  },
  {
   "cell_type": "markdown",
   "metadata": {
    "id": "rMx8lkloa9e9"
   },
   "source": [
    "# Deep Ensemble-Elastic Self-organized maps (deeSOM)\n",
    "You can find more details of the model implementation in the [deeSOM repository](https://github.com/lbugnon/deeSOM)."
   ]
  },
  {
   "cell_type": "code",
   "execution_count": 5,
   "metadata": {
    "colab": {
     "base_uri": "https://localhost:8080/"
    },
    "id": "sKLGbM1_NoYd",
    "outputId": "7cdeb23c-c04e-4e53-acfb-d98832d66216"
   },
   "outputs": [
    {
     "name": "stdout",
     "output_type": "stream",
     "text": [
      "Requirement already satisfied: deesom in /home/leandro/.local/lib/python3.7/site-packages (1.0)\r\n"
     ]
    }
   ],
   "source": [
    "!pip3 install deesom \n",
    "from deesom import DeeSOM\n",
    "deesom = DeeSOM(verbosity=True)\n",
    "model_file = \"models/deesom.pk\"\n",
    "try:\n",
    "    deesom.load_model(model_file)\n",
    "except FileNotFoundError:\n",
    "    raise f\"Model file {model_file} not found. You probably need to train the model first\"  \n",
    "\n",
    "if not os.path.isdir(\"predictions\"):\n",
    "    os.mkdir(\"predictions\")\n",
    "\n",
    "scores = deesom.predict_proba(features_sarscov2)\n",
    "ind = np.argsort(scores)[::-1]\n",
    "pd.DataFrame(np.array([sequence_names[ind], scores[ind]]).T, \n",
    "             columns=[\"sequence_names\", \"deeSOM_scores\"]).to_csv(\"predictions/deeSOM.csv\",\n",
    "                                                                 index=False)"
   ]
  },
  {
   "cell_type": "markdown",
   "metadata": {
    "id": "gGMN4F-OKkK2"
   },
   "source": [
    "## miRNA Deep Neural Network (mirDNN)\n",
    "You can find more details of the model implementation in the [mirDNN repository](https://github.com/cyones/mirDNN)."
   ]
  },
  {
   "cell_type": "code",
   "execution_count": null,
   "metadata": {
    "colab": {
     "base_uri": "https://localhost:8080/",
     "height": 51
    },
    "id": "3cNEFGDvKjjb",
    "outputId": "4ba99b02-3f37-4a0e-bc34-eed1e1eeac12"
   },
   "outputs": [
    {
     "name": "stdout",
     "output_type": "stream",
     "text": [
      "Requirement already satisfied: biopython in /usr/local/lib/python3.6/dist-packages (1.76)\n",
      "Requirement already satisfied: numpy in /usr/local/lib/python3.6/dist-packages (from biopython) (1.18.2)\n"
     ]
    }
   ],
   "source": [
    "# Install mirDNN\n",
    "! git clone --recurse-submodules https://github.com/cyones/mirDNN.git\n",
    "! pip install -r mirDNN/requirements.txt\n",
    "\n",
    "! python mirDNN/model_eval.py -i \"sequences/sars-cov2_hairpins.fold\" -o \"predictions/mirDNN.csv\" -m models/mirDNN.pmt -s160 -d \"cuda\""
   ]
  }
 ],
 "metadata": {
  "colab": {
   "collapsed_sections": [],
   "name": "predict_pre-miRNAs.ipynb",
   "provenance": [],
   "toc_visible": true
  },
  "kernelspec": {
   "display_name": "Python 3",
   "language": "python",
   "name": "python3"
  },
  "language_info": {
   "codemirror_mode": {
    "name": "ipython",
    "version": 3
   },
   "file_extension": ".py",
   "mimetype": "text/x-python",
   "name": "python",
   "nbconvert_exporter": "python",
   "pygments_lexer": "ipython3",
   "version": "3.7.3"
  }
 },
 "nbformat": 4,
 "nbformat_minor": 1
}
